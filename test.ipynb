{
 "cells": [
  {
   "cell_type": "code",
   "execution_count": 24,
   "id": "7e409219-5adf-45c0-b007-070cb498e652",
   "metadata": {},
   "outputs": [
    {
     "name": "stdout",
     "output_type": "stream",
     "text": [
      "com\n"
     ]
    }
   ],
   "source": [
    "import re\n",
    "TLD_regex = re.compile(r'\\.([a-zA-Z0-9-]+)(?:\\.(?=[\\/?#]|$)|(?::(?:\\d+)?|[\\/?#]|$))')\n",
    "TLD_regex = re.compile(r'\\.([a-zA-Z0-9-]+)(?:\\.(?=[:\\/?#]|$)|(?::(?:\\d+)?|[\\/?#]|$))')\n",
    "url = 'google.com'\n",
    "match = TLD_regex.search(url).group(1)\n",
    "print(match)"
   ]
  }
 ],
 "metadata": {
  "kernelspec": {
   "display_name": "Python 3 (ipykernel)",
   "language": "python",
   "name": "python3"
  },
  "language_info": {
   "codemirror_mode": {
    "name": "ipython",
    "version": 3
   },
   "file_extension": ".py",
   "mimetype": "text/x-python",
   "name": "python",
   "nbconvert_exporter": "python",
   "pygments_lexer": "ipython3",
   "version": "3.10.10"
  }
 },
 "nbformat": 4,
 "nbformat_minor": 5
}
