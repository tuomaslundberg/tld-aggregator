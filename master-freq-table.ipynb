{
 "cells": [
  {
   "cell_type": "code",
   "execution_count": 14,
   "id": "d748a335-27db-4c1c-bba4-407db2672641",
   "metadata": {},
   "outputs": [],
   "source": [
    "import json\n",
    "import os\n",
    "from collections import defaultdict\n",
    "\n",
    "# Input and output paths\n",
    "input_directory = \"/scratch/project_462000353/tlundber/tld-aggregator/tld-aggregator-results\"\n",
    "output_file = \"/scratch/project_462000353/tlundber/tld-aggregator/master-freq-table.json\"\n",
    "\n",
    "master_table = defaultdict(int)  # Dictionary to hold summed frequencies\n",
    "\n",
    "# Iterate through JSON files in the input directory\n",
    "for root, dirs, files in os.walk(input_directory):\n",
    "    for file_name in files:\n",
    "        if file_name.endswith(\".json\"):\n",
    "            file_path = os.path.join(root, file_name)\n",
    "            with open(file_path, 'r') as file:\n",
    "                data = json.load(file)\n",
    "                for key, value in data.items():\n",
    "                    master_table[key] += value  # Sum frequencies\n",
    "\n",
    "# Save the merged result to the output file\n",
    "with open(output_file, 'w') as output:\n",
    "    json.dump(master_table, output, indent=4)\n"
   ]
  }
 ],
 "metadata": {
  "kernelspec": {
   "display_name": "Python 3 (ipykernel)",
   "language": "python",
   "name": "python3"
  },
  "language_info": {
   "codemirror_mode": {
    "name": "ipython",
    "version": 3
   },
   "file_extension": ".py",
   "mimetype": "text/x-python",
   "name": "python",
   "nbconvert_exporter": "python",
   "pygments_lexer": "ipython3",
   "version": "3.10.10"
  }
 },
 "nbformat": 4,
 "nbformat_minor": 5
}
