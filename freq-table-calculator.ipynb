{
 "cells": [
  {
   "cell_type": "code",
   "execution_count": 25,
   "id": "d748a335-27db-4c1c-bba4-407db2672641",
   "metadata": {},
   "outputs": [],
   "source": [
    "import json\n",
    "import os\n",
    "from collections import defaultdict\n",
    "\n",
    "# Input and output paths\n",
    "input_directory = \"/scratch/project_462000353/tlundber/tld-aggregator/tld-aggregator-results\"\n",
    "top_output_dir = \"/scratch/project_462000353/tlundber/tld-aggregator/selected_results\"\n",
    "languages = ['spa_Latn', 'fra_Latn', 'hin_Deva', 'tha_Thai', 'swe_Latn']\n",
    "top_n = 10  # Number of top TLDs to include\n",
    "os.makedirs(top_output_dir, exist_ok=True)\n",
    "\n",
    "def sum_and_sort_distribution(input_directory, output_file, top_n):\n",
    "    master_table = defaultdict(int)  # Dictionary to hold summed frequencies\n",
    "\n",
    "    # Iterate through JSON files in the input directory\n",
    "    for root, dirs, files in os.walk(input_directory):\n",
    "        for file_name in files:\n",
    "            if file_name.endswith(\".json\") and \"checkpoint\" not in file_name.lower():\n",
    "                file_path = os.path.join(root, file_name)\n",
    "                with open(file_path, 'r') as file:\n",
    "                    data = json.load(file)\n",
    "                    for key, value in data.items():\n",
    "                        master_table[key] += value  # Sum frequencies\n",
    "\n",
    "    # Sort the dictionary by frequency in descending order and select top-N\n",
    "    sorted_master_table = dict(sorted(master_table.items(), key=lambda item: item[1], reverse=True)[:top_n])\n",
    "\n",
    "    # Save the sorted and filtered result to the output file\n",
    "    with open(output_file, 'w') as output:\n",
    "        json.dump(sorted_master_table, output, indent=4)\n",
    "\n",
    "# Process each language\n",
    "for lang in languages:\n",
    "    lang_input_dir = input_directory + \"/\" + lang\n",
    "    output_file = os.path.join(top_output_dir, f\"{lang}.json\")\n",
    "    sum_and_sort_distribution(lang_input_dir, output_file, top_n)\n"
   ]
  },
  {
   "cell_type": "code",
   "execution_count": 26,
   "id": "a276a11a-d211-4389-b48c-26f7aae379fd",
   "metadata": {},
   "outputs": [
    {
     "name": "stdout",
     "output_type": "stream",
     "text": [
      "Processed hin_Deva.json -> /scratch/project_462000353/tlundber/tld-aggregator/relative_frequencies/hin_Deva.json\n",
      "Processed tha_Thai.json -> /scratch/project_462000353/tlundber/tld-aggregator/relative_frequencies/tha_Thai.json\n",
      "Processed swe_Latn.json -> /scratch/project_462000353/tlundber/tld-aggregator/relative_frequencies/swe_Latn.json\n",
      "Processed spa_Latn.json -> /scratch/project_462000353/tlundber/tld-aggregator/relative_frequencies/spa_Latn.json\n",
      "Processed fra_Latn.json -> /scratch/project_462000353/tlundber/tld-aggregator/relative_frequencies/fra_Latn.json\n"
     ]
    }
   ],
   "source": [
    "# Input and output paths\n",
    "input_directory = \"/scratch/project_462000353/tlundber/tld-aggregator/selected_results-top100\"\n",
    "output_directory = \"/scratch/project_462000353/tlundber/tld-aggregator/relative_frequencies\"\n",
    "\n",
    "# Ensure the output directory exists\n",
    "os.makedirs(output_directory, exist_ok=True)\n",
    "\n",
    "def calculate_relative_frequencies(input_directory, output_directory):\n",
    "    # Iterate through JSON files in the input directory\n",
    "    for root, dirs, files in os.walk(input_directory):\n",
    "        for file_name in files:\n",
    "            if file_name.endswith(\".json\") and \"checkpoint\" not in file_name.lower():\n",
    "                input_file_path = os.path.join(root, file_name)\n",
    "                output_file_path = os.path.join(output_directory, file_name)\n",
    "\n",
    "                # Load frequency data from the input file\n",
    "                with open(input_file_path, 'r') as input_file:\n",
    "                    frequency_data = json.load(input_file)\n",
    "\n",
    "                # Calculate total frequency\n",
    "                total_frequency = sum(frequency_data.values())\n",
    "\n",
    "                # Calculate relative frequencies\n",
    "                relative_frequencies = {key: value / total_frequency for key, value in frequency_data.items()}\n",
    "\n",
    "                # Save relative frequencies to the output file\n",
    "                with open(output_file_path, 'w') as output_file:\n",
    "                    json.dump(relative_frequencies, output_file, indent=4)\n",
    "\n",
    "                print(f\"Processed {file_name} -> {output_file_path}\")\n",
    "\n",
    "# Run the script\n",
    "calculate_relative_frequencies(input_directory, output_directory)"
   ]
  }
 ],
 "metadata": {
  "kernelspec": {
   "display_name": "Python 3 (ipykernel)",
   "language": "python",
   "name": "python3"
  },
  "language_info": {
   "codemirror_mode": {
    "name": "ipython",
    "version": 3
   },
   "file_extension": ".py",
   "mimetype": "text/x-python",
   "name": "python",
   "nbconvert_exporter": "python",
   "pygments_lexer": "ipython3",
   "version": "3.10.10"
  }
 },
 "nbformat": 4,
 "nbformat_minor": 5
}
